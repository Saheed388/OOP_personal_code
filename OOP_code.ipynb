{
 "cells": [
  {
   "cell_type": "code",
   "execution_count": 13,
   "metadata": {},
   "outputs": [
    {
     "name": "stdout",
     "output_type": "stream",
     "text": [
      "bark\n"
     ]
    },
    {
     "data": {
      "text/plain": [
       "40"
      ]
     },
     "execution_count": 13,
     "metadata": {},
     "output_type": "execute_result"
    }
   ],
   "source": [
    "class Dog:\n",
    "    def bark(self):\n",
    "        print(\"bark\")\n",
    "\n",
    "    def mult_two(self, x):\n",
    "        return x * 2\n",
    "\n",
    "d = Dog()\n",
    "d.bark()\n",
    "d.mult_two(20)"
   ]
  },
  {
   "cell_type": "code",
   "execution_count": 19,
   "metadata": {},
   "outputs": [
    {
     "name": "stdout",
     "output_type": "stream",
     "text": [
      "bingo\n"
     ]
    },
    {
     "data": {
      "text/plain": [
       "40"
      ]
     },
     "execution_count": 19,
     "metadata": {},
     "output_type": "execute_result"
    }
   ],
   "source": [
    "class Dog:\n",
    "    def __init__(self, name):\n",
    "        self.name = name\n",
    "        print(name)\n",
    "\n",
    "    def mult_two(self , x):\n",
    "        return x * 2\n",
    "\n",
    "d = Dog(\"bingo\")\n",
    "d.mult_two(20)"
   ]
  },
  {
   "cell_type": "code",
   "execution_count": 31,
   "metadata": {},
   "outputs": [
    {
     "name": "stdout",
     "output_type": "stream",
     "text": [
      "67\n",
      "82.5\n"
     ]
    }
   ],
   "source": [
    "class Student:\n",
    "    def __init__(self, name, age, grade):\n",
    "        self.name = name\n",
    "        self.age =age\n",
    "        self.grade =grade\n",
    "\n",
    "    def get_grade(self):\n",
    "        return self.grade\n",
    "    \n",
    "class Course:\n",
    "    def __init__(self, name, max_students):\n",
    "        self.name =name\n",
    "        self.max_students = max_students\n",
    "#to make student store in course object is to make a list of student        \n",
    "        self.students = []\n",
    "#method that will allow us to add student into the object\n",
    "    def add_student(self, student):\n",
    "        if len(self.students) < self.max_students:\n",
    "            self.students.append(student)\n",
    "            return True\n",
    "        return False\n",
    "    \n",
    "    def get_avg_grade(self):\n",
    "        value = 0\n",
    "        for student in self.students:\n",
    "            value += student.get_grade()\n",
    "\n",
    "        return value / len(self.students)\n",
    "\n",
    "s1 = Student(\"bidemi\", 24, 98)\n",
    "s2 = Student(\"Tunde\", 30, 67)\n",
    "s3 = Student(\"saheed\", 23, 78)\n",
    "    \n",
    "course = Course(\"Art\", 2)\n",
    "course.add_student(s1)\n",
    "course.add_student(s2)\n",
    "#print out\n",
    "print(course.students[1].grade)\n",
    "\n",
    "print(course.get_avg_grade())\n",
    "\n"
   ]
  },
  {
   "cell_type": "code",
   "execution_count": null,
   "metadata": {},
   "outputs": [],
   "source": [
    "### Inheritance"
   ]
  },
  {
   "cell_type": "code",
   "execution_count": 1,
   "metadata": {},
   "outputs": [
    {
     "name": "stdout",
     "output_type": "stream",
     "text": [
      " I dont know what to say\n",
      "meow\n",
      "back\n",
      " I dont know what to say\n"
     ]
    }
   ],
   "source": [
    "class Pet:\n",
    "    def __init__(self, name , age):\n",
    "        self.name = name\n",
    "        self.age = age\n",
    "\n",
    "    def show (self):\n",
    "        print(f\"my name is {self.name} and I am {self.age} years old\")\n",
    "\n",
    "    def speak(self):\n",
    "        print(\" I dont know what to say\")\n",
    "class cat(Pet):\n",
    "    def speak(self):\n",
    "        print(\"meow\")\n",
    "\n",
    "\n",
    "class dog(Pet):\n",
    "    def speak(self):\n",
    "        print(\"back\")\n",
    "\n",
    "class fish(Pet):\n",
    "        pass\n",
    "\n",
    "a = Pet(\"sme\", 16)\n",
    "a.speak()\n",
    "c = cat(\"pin\", 30)\n",
    "c.speak()\n",
    "d = dog(\"croon\", 12)\n",
    "d.speak()\n",
    "f = fish(\"titus\", 34)\n",
    "f.speak()"
   ]
  },
  {
   "cell_type": "code",
   "execution_count": 3,
   "metadata": {},
   "outputs": [
    {
     "name": "stdout",
     "output_type": "stream",
     "text": [
      " I dont know what to say\n",
      "my name is pin and I am 30 years old and I am black\n",
      "back\n",
      " I dont know what to say\n"
     ]
    }
   ],
   "source": [
    "\n",
    "##Adding other column to the code\n",
    "\n",
    "class Pet:\n",
    "    def __init__(self, name , age):\n",
    "        self.name = name\n",
    "        self.age = age\n",
    "\n",
    "    def show (self):\n",
    "        print(f\"my name is {self.name} and I am {self.age} years old and I am {self.color}\")\n",
    "\n",
    "    def speak(self):\n",
    "        print(\" I dont know what to say\")\n",
    "\n",
    "class cat(Pet):\n",
    "    def __init__ (self, name, age, color):\n",
    "        #added color to cat\n",
    "        #super funtion call the class inherited from the parent class\n",
    "        super().__init__(name, age)\n",
    "        self.color = color\n",
    "\n",
    "class dog(Pet):\n",
    "    def speak(self):\n",
    "        print(\"back\")\n",
    "\n",
    "class fish(Pet):\n",
    "        pass\n",
    "\n",
    "a = Pet(\"sme\", 16)\n",
    "a.speak()\n",
    "c = cat(\"pin\", 30, \"black\")\n",
    "c.show()\n",
    "d = dog(\"croon\", 12)\n",
    "d.speak()\n",
    "f = fish(\"titus\", 34)\n",
    "f.speak()"
   ]
  },
  {
   "cell_type": "code",
   "execution_count": 5,
   "metadata": {},
   "outputs": [
    {
     "name": "stdout",
     "output_type": "stream",
     "text": [
      "1\n",
      "2\n",
      "3\n"
     ]
    }
   ],
   "source": [
    "#class atrribute\n",
    "\n",
    "class Person:\n",
    "    # a class attrubute \n",
    "    #this apply to every single input\n",
    "    number_of_people = 0\n",
    "    \n",
    "    def __init__(self, name):\n",
    "        self.name = name\n",
    "        # this keep track of how the people are increasing\n",
    "        Person.number_of_people += 1\n",
    "    #class method\n",
    "    \n",
    "p1 = Person(\"tunde\")\n",
    "print(Person.number_of_people)\n",
    "p2 = Person(\"bidemi\")\n",
    "print(Person.number_of_people)\n",
    "p3 = Person(\"saheed\")\n",
    "print(Person.number_of_people)\n"
   ]
  },
  {
   "cell_type": "code",
   "execution_count": 7,
   "metadata": {},
   "outputs": [
    {
     "name": "stdout",
     "output_type": "stream",
     "text": [
      "3\n"
     ]
    }
   ],
   "source": [
    "\n",
    "class Person:\n",
    "    # a class attrubute \n",
    "    #this apply to every single input\n",
    "    number_of_people = 0\n",
    "    Gravity = -9.8\n",
    "\n",
    "    def __init__(self, name):\n",
    "        self.name = name\n",
    "        Person.add_person()\n",
    "\n",
    "    @classmethod\n",
    "    def number_of_people_(cls):\n",
    "        return cls.number_of_people\n",
    "    \n",
    "    \n",
    "    @classmethod\n",
    "    def add_person(cls):\n",
    "        cls.number_of_people += 1\n",
    "        # this keep track of how the people are increasing\n",
    "    #class method\n",
    "    \n",
    "p1 = Person(\"tunde\")\n",
    "p2 = Person(\"bidemi\")\n",
    "p3 = Person(\"saheed\")\n",
    "print(Person.number_of_people_())\n"
   ]
  },
  {
   "cell_type": "code",
   "execution_count": 10,
   "metadata": {},
   "outputs": [
    {
     "name": "stdout",
     "output_type": "stream",
     "text": [
      "60\n",
      "run\n"
     ]
    }
   ],
   "source": [
    "#STATIC METHOD\n",
    "class Math:\n",
    "\n",
    "    @staticmethod\n",
    "    def add10(x):\n",
    "        return x + 10\n",
    "    \n",
    "    @staticmethod\n",
    "    def mult20(x):\n",
    "        return x * 20\n",
    "    \n",
    "    @staticmethod\n",
    "    def pr():\n",
    "        print(\"run\")\n",
    "    \n",
    "\n",
    "print(Math.mult20(2) + Math.add10(10))\n",
    "Math.pr()"
   ]
  },
  {
   "cell_type": "code",
   "execution_count": 11,
   "metadata": {},
   "outputs": [
    {
     "name": "stdout",
     "output_type": "stream",
     "text": [
      "display function ran\n"
     ]
    }
   ],
   "source": [
    "def decorator_function(original_function):\n",
    "    def wrapper_function():\n",
    "        return original_function()\n",
    "    return wrapper_function\n",
    "\n",
    "def display():\n",
    "    print(\"display function ran\")\n",
    "\n",
    "decorated_display = decorator_function(display)\n",
    "decorated_display()"
   ]
  },
  {
   "cell_type": "code",
   "execution_count": null,
   "metadata": {},
   "outputs": [],
   "source": []
  }
 ],
 "metadata": {
  "kernelspec": {
   "display_name": "venv",
   "language": "python",
   "name": "python3"
  },
  "language_info": {
   "codemirror_mode": {
    "name": "ipython",
    "version": 3
   },
   "file_extension": ".py",
   "mimetype": "text/x-python",
   "name": "python",
   "nbconvert_exporter": "python",
   "pygments_lexer": "ipython3",
   "version": "3.9.7"
  },
  "orig_nbformat": 4
 },
 "nbformat": 4,
 "nbformat_minor": 2
}
